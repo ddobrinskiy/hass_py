{
 "cells": [
  {
   "cell_type": "raw",
   "metadata": {},
   "source": [
    "---\n",
    "description: utils for this project\n",
    "output-file: utils.html\n",
    "title: utils\n",
    "\n",
    "---\n",
    "\n"
   ]
  },
  {
   "cell_type": "code",
   "execution_count": null,
   "metadata": {},
   "outputs": [],
   "source": [
    "# | default_exp utils"
   ]
  },
  {
   "cell_type": "code",
   "execution_count": null,
   "metadata": {},
   "outputs": [],
   "source": [
    "# | hide\n",
    "# from nbdev.showdoc import *"
   ]
  },
  {
   "cell_type": "code",
   "execution_count": null,
   "metadata": {},
   "outputs": [],
   "source": [
    "# | export\n",
    "\n",
    "from pathlib import Path"
   ]
  },
  {
   "cell_type": "code",
   "execution_count": null,
   "metadata": {},
   "outputs": [],
   "source": [
    "# | export\n",
    "def find_dir(dirname: str) -> Path:\n",
    "    \"\"\"find dirname in cwd or cwd.parent\n",
    "\n",
    "    Parameters\n",
    "    ----------\n",
    "    dirname : str\n",
    "        dirname to find\n",
    "\n",
    "    Returns\n",
    "    -------\n",
    "    Path\n",
    "        path to dirname\n",
    "\n",
    "    Raises\n",
    "    ------\n",
    "    FileNotFoundError\n",
    "        err if dirname not found\n",
    "\n",
    "    NotADirectoryError\n",
    "        err if dirname is not a directory\n",
    "    \"\"\"\n",
    "    cwd = Path.cwd()\n",
    "\n",
    "    if (cwd / dirname).exists():\n",
    "        path = cwd / dirname\n",
    "    elif (cwd.parent / dirname).exists():\n",
    "        path = cwd.parent / dirname\n",
    "    else:\n",
    "        raise FileNotFoundError(f\"{dirname} not found in {cwd} or {cwd.parent}\")\n",
    "\n",
    "    if not path.is_dir():\n",
    "        raise NotADirectoryError(f\"{path} is not a directory\")\n",
    "\n",
    "    return path"
   ]
  },
  {
   "cell_type": "code",
   "execution_count": null,
   "metadata": {},
   "outputs": [],
   "source": [
    "# | hide\n",
    "import nbdev\n",
    "\n",
    "nbdev.nbdev_export()"
   ]
  },
  {
   "cell_type": "code",
   "execution_count": null,
   "metadata": {},
   "outputs": [],
   "source": []
  }
 ],
 "metadata": {
  "kernelspec": {
   "display_name": "Python 3.10.8 ('hass_py-OkK7krZh')",
   "language": "python",
   "name": "python3"
  }
 },
 "nbformat": 4,
 "nbformat_minor": 4
}
