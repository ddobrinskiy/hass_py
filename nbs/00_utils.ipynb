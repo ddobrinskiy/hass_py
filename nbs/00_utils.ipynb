{
 "cells": [
  {
   "cell_type": "markdown",
   "metadata": {},
   "source": [
    "# utils \n",
    "\n",
    "> utils for this project"
   ]
  },
  {
   "cell_type": "code",
   "execution_count": null,
   "metadata": {},
   "outputs": [],
   "source": [
    "# | default_exp utils"
   ]
  },
  {
   "cell_type": "code",
   "execution_count": null,
   "metadata": {},
   "outputs": [],
   "source": [
    "# | hide\n",
    "# from nbdev.showdoc import *"
   ]
  },
  {
   "cell_type": "markdown",
   "metadata": {},
   "source": [
    "## Dependency Parser\n",
    "\n",
    "By default nbdev uses `requirements` and `dev_requirements` attributes form `settings.ini` to install dependencies.\n",
    "\n",
    "However, we want to use `Pipfile` file to install dependencies.\n",
    " \n",
    "To do so, we need to override the default behavior of nbdev. We do this by creating a custom `DependencyParser` class."
   ]
  },
  {
   "cell_type": "markdown",
   "metadata": {},
   "source": [
    " Example of setuptools expected format for dependencies:\n",
    " \n",
    " ```python\n",
    "     install_requires=[\n",
    "        'docutils',\n",
    "        'BazSpam ==1.1',\n",
    "        \"black['jupyter'] ==22.12.0\",\n",
    "    ],\n",
    "```"
   ]
  },
  {
   "cell_type": "code",
   "execution_count": null,
   "metadata": {},
   "outputs": [],
   "source": [
    "# | export\n",
    "from pipfile import Pipfile\n",
    "\n",
    "\n",
    "class DependencyParser:\n",
    "    def __init__(self, path_to_pipfile: str):\n",
    "        self.pipfile = Pipfile.load(filename=path_to_pipfile)\n",
    "\n",
    "    def pipenv_to_setuptools(self, package_name: str, contraints: str | dict) -> str:\n",
    "        if contraints == \"*\":\n",
    "            res = f\"{package_name}\"\n",
    "        elif (contraints != \"*\") and isinstance(contraints, str):\n",
    "            res = f\"{package_name} {contraints}\"\n",
    "        elif isinstance(contraints, dict):\n",
    "            if extras := contraints.get(\"extras\"):\n",
    "                extras = [f\"'{e}'\" for e in extras]  # add ' to extras in list\n",
    "                package_name = f\"{package_name}[{','.join(extras)}]\"\n",
    "                res = f\"{package_name} {contraints['version']}\"\n",
    "            else:\n",
    "                res = f\"{package_name} {contraints['version']}\"\n",
    "        else:\n",
    "            raise ValueError(f\"Could not parse {package_name}, {contraints}\")\n",
    "\n",
    "        return res\n",
    "\n",
    "    @property\n",
    "    def min_python(self) -> str:\n",
    "        return self.pipfile.data[\"_meta\"][\"requires\"][\"python_version\"]\n",
    "\n",
    "    @property\n",
    "    def requirements(self):\n",
    "        return [\n",
    "            self.pipenv_to_setuptools(k, v)\n",
    "            for k, v in self.pipfile.data[\"default\"].items()\n",
    "        ]\n",
    "\n",
    "    @property\n",
    "    def dev_requirements(self):\n",
    "        return [\n",
    "            self.pipenv_to_setuptools(k, v)\n",
    "            for k, v in self.pipfile.data[\"develop\"].items()\n",
    "        ]"
   ]
  },
  {
   "cell_type": "code",
   "execution_count": null,
   "metadata": {},
   "outputs": [],
   "source": [
    "# test DependencyParser on test data\n",
    "deps_parsed = DependencyParser(\"../test_data/utils/Pipfile\")\n",
    "assert deps_parsed.min_python == \"3.6\"\n",
    "assert set(deps_parsed.requirements) == set([\"simple ==2.28\"])\n",
    "assert set(deps_parsed.dev_requirements) == set(\n",
    "    [\"nested['jupyter'] ==22.12.0\", \"flexible ==1.*\", \"star\", \"gt >2.20\", \"gte >=2.20\"]\n",
    ")"
   ]
  },
  {
   "cell_type": "code",
   "execution_count": null,
   "metadata": {},
   "outputs": [],
   "source": [
    "# | hide\n",
    "import nbdev\n",
    "\n",
    "nbdev.nbdev_export()"
   ]
  },
  {
   "cell_type": "code",
   "execution_count": null,
   "metadata": {},
   "outputs": [],
   "source": []
  }
 ],
 "metadata": {
  "kernelspec": {
   "display_name": "Python 3.10.8 ('hass_py-OkK7krZh')",
   "language": "python",
   "name": "python3"
  }
 },
 "nbformat": 4,
 "nbformat_minor": 4
}
