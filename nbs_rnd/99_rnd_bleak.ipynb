{
 "cells": [
  {
   "cell_type": "raw",
   "metadata": {},
   "source": [
    "---\n",
    "description: bluetooth scripts\n",
    "output-file: rnd_bleak.html\n",
    "title: bt\n",
    "\n",
    "---\n",
    "\n"
   ]
  },
  {
   "cell_type": "markdown",
   "metadata": {},
   "source": [
    "## How BLE works\n",
    "\n",
    "http://www.blesstags.eu/2018/08/services-characteristics-descriptors.html\n",
    "\n",
    "A BLE device has services, characteristics, and descriptors in the following tree structure:\n",
    "\n",
    "```{mermaid}\n",
    "    graph LR \n",
    "    A[BLE Device] --> S1[Service]\n",
    "    A --> S2[Service]\n",
    "\n",
    "    S1 --> C1[Characteristic]\n",
    "    C1 --> D1[Descriptor]\n",
    "    C1 --> D2[Descriptor]\n",
    "\n",
    "\n",
    "    S1 --> C2[Characteristic]\n",
    "\n",
    "    S2 --> C3[Characteristic]\n",
    "    C3 --> D3[Descriptor]\n",
    "\n",
    "    S2 --> C4[Characteristic]\n",
    "\n",
    "```\n",
    "\n",
    "The behavior of a BLE device is given by the different **Services** that encapsulate different parts of this behavior\n",
    "\n",
    "Mainly, a service is a container for different data items – these data items are called are called **Characteristics**.\n",
    "\n",
    "A **Characteristic** is a data item that can be either:\n",
    "* __read__ (e.g. a sensor value, battery level, etc.) \n",
    "* or __written__ (e.g. a configuration value, etc.). \n",
    "\n",
    "**Descriptor** - ?"
   ]
  },
  {
   "cell_type": "code",
   "execution_count": null,
   "metadata": {
    "vscode": {
     "languageId": "python"
    }
   },
   "outputs": [
    {
     "data": {
      "text/plain": [
       "<Task pending name='Task-4' coro=<hello() running at /var/folders/8f/_n2mfgvj0s740c92qff7y2lm0000gp/T/ipykernel_50531/240139731.py:7>>"
      ]
     },
     "execution_count": null,
     "metadata": {},
     "output_type": "execute_result"
    },
    {
     "name": "stdout",
     "output_type": "stream",
     "text": [
      "Hello world!\n"
     ]
    }
   ],
   "source": [
    "# | export\n",
    "import asyncio\n",
    "\n",
    "import aranet4\n",
    "\n",
    "\n",
    "async def second():\n",
    "    await asyncio.sleep(5)\n",
    "    print(\"this is another task\")\n",
    "\n",
    "\n",
    "async def hello():\n",
    "    print(\"Hello world!\")\n",
    "    await asyncio.sleep(5)\n",
    "    print(\"Hello world! x2\")\n",
    "    await second()\n",
    "    print(\"Hello again!\")"
   ]
  },
  {
   "cell_type": "code",
   "execution_count": null,
   "metadata": {
    "vscode": {
     "languageId": "python"
    }
   },
   "outputs": [],
   "source": [
    "asyncio.create_task(hello())"
   ]
  },
  {
   "cell_type": "code",
   "execution_count": null,
   "metadata": {
    "vscode": {
     "languageId": "python"
    }
   },
   "outputs": [
    {
     "data": {
      "text/plain": [
       "<Task pending name='Task-8' coro=<run() running at /var/folders/8f/_n2mfgvj0s740c92qff7y2lm0000gp/T/ipykernel_50531/1269323651.py:39>>"
      ]
     },
     "execution_count": null,
     "metadata": {},
     "output_type": "execute_result"
    },
    {
     "name": "stdout",
     "output_type": "stream",
     "text": [
      "Scanning Aranet4 devices...\n"
     ]
    }
   ],
   "source": [
    "# | notest\n",
    "scanned_devices = {}\n",
    "\n",
    "\n",
    "def on_scan(advertisement):\n",
    "    if advertisement.device.address not in scanned_devices:\n",
    "        print(f\"Found new device:  {advertisement.device.name}\")\n",
    "\n",
    "    scanned_devices[advertisement.device.address] = advertisement\n",
    "\n",
    "\n",
    "def print_advertisement(advertisement):\n",
    "    print(\"=======================================\")\n",
    "    print(f\"  Name:              {advertisement.device.name}\")\n",
    "    print(f\"  Address:           {advertisement.device.address}\")\n",
    "\n",
    "    if advertisement.manufacturer_data:\n",
    "        mf_data = advertisement.manufacturer_data\n",
    "        print(f\"  Version:           {mf_data.version}\")\n",
    "        print(f\"  Integrations:      {mf_data.integrations}\")\n",
    "        # print(f\"  Disconnected:      {mf_data.disconnected}\")\n",
    "        # print(f\"  Calibration state: {mf_data.calibration_state.name}\")\n",
    "        # print(f\"  DFU Active:        {mf_data.dfu_active:}\")\n",
    "\n",
    "    print(f\"  RSSI:              {advertisement.device.rssi} dBm\")\n",
    "\n",
    "    if advertisement.readings:\n",
    "        readings = advertisement.readings\n",
    "        print(\"-------------------------------------\")\n",
    "        print(f\"  CO2:           {readings.co2} pm\")\n",
    "        print(f\"  Temperature:   {readings.temperature:.01f} \\u00b0C\")\n",
    "        print(f\"  Humidity:      {readings.humidity} %\")\n",
    "        print(f\"  Pressure:      {readings.pressure:.01f} hPa\")\n",
    "        print(f\"  Battery:       {readings.battery} &\")\n",
    "        print(f\"  Status disp.:  {readings.status.name}\")\n",
    "        print(f\"  Ago:           {readings.ago} s\")\n",
    "    print()\n",
    "\n",
    "\n",
    "async def run():\n",
    "    # Scan for 10 seconds, then print results\n",
    "    print(\"Scanning Aranet4 devices...\")\n",
    "    aranet4.client.find_nearby(on_scan, 5)\n",
    "    print(f\"\\nFound {len(scanned_devices)} devices:\\n\")\n",
    "\n",
    "    for addr in scanned_devices:\n",
    "        advertisement = scanned_devices[addr]\n",
    "        print_advertisement(advertisement)\n",
    "\n",
    "\n",
    "asyncio.create_task(run())"
   ]
  },
  {
   "cell_type": "code",
   "execution_count": null,
   "metadata": {
    "vscode": {
     "languageId": "python"
    }
   },
   "outputs": [],
   "source": [
    "# | notest\n",
    "import asyncio\n",
    "\n",
    "from bleak import BleakScanner\n",
    "\n",
    "aranet_devices = list()\n",
    "\n",
    "\n",
    "async def find():\n",
    "    print(\"start\")\n",
    "    devices = await BleakScanner.discover()\n",
    "    global dev\n",
    "    for d in devices:\n",
    "        if d.name is not None:\n",
    "            if d.name.lower().startswith(\"aranet\"):\n",
    "                print(\"found aranet device\", d.name, d.address)\n",
    "                aranet_devices.append(d)\n",
    "    print(\"end\")\n",
    "\n",
    "\n",
    "await find()"
   ]
  },
  {
   "cell_type": "code",
   "execution_count": null,
   "metadata": {
    "vscode": {
     "languageId": "python"
    }
   },
   "outputs": [],
   "source": [
    "# | notest\n",
    "from rich import inspect\n",
    "\n",
    "inspect(aranet_devices[0])\n",
    "d = aranet_devices[0]\n",
    "d"
   ]
  },
  {
   "cell_type": "code",
   "execution_count": null,
   "metadata": {
    "vscode": {
     "languageId": "python"
    }
   },
   "outputs": [],
   "source": [
    "import asyncio\n",
    "\n",
    "import pandas as pd\n",
    "# | notest\n",
    "from bleak import BleakClient\n",
    "\n",
    "async with BleakClient(\n",
    "    \"2FFB608D-D620-E087-1DF1-434B6F6845B4\", max_write_without_response_size=300\n",
    ") as client:\n",
    "    # inspect(client)\n",
    "    # inspect(client.services.services)\n",
    "    records = list()\n",
    "    for _, service in client.services.services.items():\n",
    "        # inspect(service)\n",
    "        for char in service.characteristics:\n",
    "            # inspect(char)\n",
    "            r = dict(\n",
    "                service=service.description,\n",
    "                char_descr=char.description,\n",
    "                char_handle=char.handle,\n",
    "                properties=char.properties,\n",
    "            )\n",
    "\n",
    "            # print('descr', char.description)\n",
    "            # print('properties', char.properties)\n",
    "            if \"read\" in char.properties:\n",
    "                r[\"bytes_read\"] = bytes(await client.read_gatt_char(char))\n",
    "\n",
    "            records.append(r)"
   ]
  },
  {
   "cell_type": "code",
   "execution_count": null,
   "metadata": {
    "vscode": {
     "languageId": "python"
    }
   },
   "outputs": [
    {
     "data": {
      "text/html": [
       "<div>\n",
       "<style scoped>\n",
       "    .dataframe tbody tr th:only-of-type {\n",
       "        vertical-align: middle;\n",
       "    }\n",
       "\n",
       "    .dataframe tbody tr th {\n",
       "        vertical-align: top;\n",
       "    }\n",
       "\n",
       "    .dataframe thead th {\n",
       "        text-align: right;\n",
       "    }\n",
       "</style>\n",
       "<table border=\"1\" class=\"dataframe\">\n",
       "  <thead>\n",
       "    <tr style=\"text-align: right;\">\n",
       "      <th></th>\n",
       "      <th>service</th>\n",
       "      <th>char_descr</th>\n",
       "      <th>char_handle</th>\n",
       "      <th>properties</th>\n",
       "      <th>bytes_read</th>\n",
       "      <th>char_value</th>\n",
       "    </tr>\n",
       "  </thead>\n",
       "  <tbody>\n",
       "    <tr>\n",
       "      <th>0</th>\n",
       "      <td>Nordic Semiconductor ASA</td>\n",
       "      <td>Buttonless DFU</td>\n",
       "      <td>15</td>\n",
       "      <td>[write, indicate]</td>\n",
       "      <td>NaN</td>\n",
       "      <td>NaN</td>\n",
       "    </tr>\n",
       "    <tr>\n",
       "      <th>1</th>\n",
       "      <td>Battery Service</td>\n",
       "      <td>Battery Level</td>\n",
       "      <td>19</td>\n",
       "      <td>[read, notify]</td>\n",
       "      <td>b'['</td>\n",
       "      <td>91</td>\n",
       "    </tr>\n",
       "    <tr>\n",
       "      <th>2</th>\n",
       "      <td>Device Information</td>\n",
       "      <td>Manufacturer Name String</td>\n",
       "      <td>23</td>\n",
       "      <td>[read]</td>\n",
       "      <td>b'SAF Tehnika'</td>\n",
       "      <td>SAF Tehnika</td>\n",
       "    </tr>\n",
       "    <tr>\n",
       "      <th>3</th>\n",
       "      <td>Device Information</td>\n",
       "      <td>Model Number String</td>\n",
       "      <td>25</td>\n",
       "      <td>[read]</td>\n",
       "      <td>b'Aranet4'</td>\n",
       "      <td>Aranet4</td>\n",
       "    </tr>\n",
       "    <tr>\n",
       "      <th>4</th>\n",
       "      <td>Device Information</td>\n",
       "      <td>Serial Number String</td>\n",
       "      <td>27</td>\n",
       "      <td>[read]</td>\n",
       "      <td>b'317960115190'</td>\n",
       "      <td>317960115190</td>\n",
       "    </tr>\n",
       "    <tr>\n",
       "      <th>5</th>\n",
       "      <td>Device Information</td>\n",
       "      <td>Hardware Revision String</td>\n",
       "      <td>29</td>\n",
       "      <td>[read]</td>\n",
       "      <td>b'12'</td>\n",
       "      <td>12</td>\n",
       "    </tr>\n",
       "    <tr>\n",
       "      <th>6</th>\n",
       "      <td>Device Information</td>\n",
       "      <td>Firmware Revision String</td>\n",
       "      <td>31</td>\n",
       "      <td>[read]</td>\n",
       "      <td>b'v0.4.14'</td>\n",
       "      <td>v0.4.14</td>\n",
       "    </tr>\n",
       "    <tr>\n",
       "      <th>7</th>\n",
       "      <td>Device Information</td>\n",
       "      <td>Software Revision String</td>\n",
       "      <td>33</td>\n",
       "      <td>[read]</td>\n",
       "      <td>b'v0.4.14'</td>\n",
       "      <td>v0.4.14</td>\n",
       "    </tr>\n",
       "    <tr>\n",
       "      <th>8</th>\n",
       "      <td>Device Information</td>\n",
       "      <td>System ID</td>\n",
       "      <td>35</td>\n",
       "      <td>[read]</td>\n",
       "      <td>b'\\xf6S\\xe6\\x07J\\xa6\\x04\\x00'</td>\n",
       "      <td>1308736797168630</td>\n",
       "    </tr>\n",
       "    <tr>\n",
       "      <th>9</th>\n",
       "      <td>Unknown</td>\n",
       "      <td>Unknown</td>\n",
       "      <td>38</td>\n",
       "      <td>[read]</td>\n",
       "      <td>b'\\xf1`\\x81\\x00\\xe8\\x03x\\x05\\x84\\x03x\\x05'</td>\n",
       "      <td>1692512749924216445555794161</td>\n",
       "    </tr>\n",
       "    <tr>\n",
       "      <th>10</th>\n",
       "      <td>Unknown</td>\n",
       "      <td>Unknown</td>\n",
       "      <td>40</td>\n",
       "      <td>[write]</td>\n",
       "      <td>NaN</td>\n",
       "      <td>NaN</td>\n",
       "    </tr>\n",
       "    <tr>\n",
       "      <th>11</th>\n",
       "      <td>Unknown</td>\n",
       "      <td>Unknown</td>\n",
       "      <td>42</td>\n",
       "      <td>[read]</td>\n",
       "      <td>b'\\x00\\x07\\xd4\\x01P%$[\\x03'</td>\n",
       "      <td>61907647403299964672</td>\n",
       "    </tr>\n",
       "    <tr>\n",
       "      <th>12</th>\n",
       "      <td>Unknown</td>\n",
       "      <td>Unknown</td>\n",
       "      <td>44</td>\n",
       "      <td>[read]</td>\n",
       "      <td>b'\\xe0\\x07'</td>\n",
       "      <td>2016</td>\n",
       "    </tr>\n",
       "    <tr>\n",
       "      <th>13</th>\n",
       "      <td>Unknown</td>\n",
       "      <td>Unknown</td>\n",
       "      <td>46</td>\n",
       "      <td>[read]</td>\n",
       "      <td>b',\\x01'</td>\n",
       "      <td>300</td>\n",
       "    </tr>\n",
       "    <tr>\n",
       "      <th>14</th>\n",
       "      <td>Unknown</td>\n",
       "      <td>Unknown</td>\n",
       "      <td>48</td>\n",
       "      <td>[read, notify]</td>\n",
       "      <td>b'\\x00\\x00\\x00\\x00\\x00\\x00\\x00\\x00\\x00\\x00\\x00...</td>\n",
       "      <td>0</td>\n",
       "    </tr>\n",
       "    <tr>\n",
       "      <th>15</th>\n",
       "      <td>Unknown</td>\n",
       "      <td>Unknown</td>\n",
       "      <td>51</td>\n",
       "      <td>[read]</td>\n",
       "      <td>b'\\xff\\xff\\xff\\xff\\xff\\xff\\xff\\xff'</td>\n",
       "      <td>18446744073709551615</td>\n",
       "    </tr>\n",
       "    <tr>\n",
       "      <th>16</th>\n",
       "      <td>Unknown</td>\n",
       "      <td>Unknown</td>\n",
       "      <td>53</td>\n",
       "      <td>[read]</td>\n",
       "      <td>b'6\\x00'</td>\n",
       "      <td>54</td>\n",
       "    </tr>\n",
       "    <tr>\n",
       "      <th>17</th>\n",
       "      <td>Unknown</td>\n",
       "      <td>Unknown</td>\n",
       "      <td>55</td>\n",
       "      <td>[read]</td>\n",
       "      <td>b'\\x00\\x07\\xd4\\x01P%$[\\x03,\\x016\\x00'</td>\n",
       "      <td>16713607302205142008002250496</td>\n",
       "    </tr>\n",
       "    <tr>\n",
       "      <th>18</th>\n",
       "      <td>Unknown</td>\n",
       "      <td>Unknown</td>\n",
       "      <td>57</td>\n",
       "      <td>[read]</td>\n",
       "      <td>b'\\x03,\\x01\\xe0\\x076\\x00\\x94\\x03u\\xca%\\xca%\\xc...</td>\n",
       "      <td>6012503719597758785888373246281501774110962781...</td>\n",
       "    </tr>\n",
       "  </tbody>\n",
       "</table>\n",
       "</div>"
      ],
      "text/plain": [
       "                     service                char_descr  char_handle  \\\n",
       "0   Nordic Semiconductor ASA            Buttonless DFU           15   \n",
       "1            Battery Service             Battery Level           19   \n",
       "2         Device Information  Manufacturer Name String           23   \n",
       "3         Device Information       Model Number String           25   \n",
       "4         Device Information      Serial Number String           27   \n",
       "5         Device Information  Hardware Revision String           29   \n",
       "6         Device Information  Firmware Revision String           31   \n",
       "7         Device Information  Software Revision String           33   \n",
       "8         Device Information                 System ID           35   \n",
       "9                    Unknown                   Unknown           38   \n",
       "10                   Unknown                   Unknown           40   \n",
       "11                   Unknown                   Unknown           42   \n",
       "12                   Unknown                   Unknown           44   \n",
       "13                   Unknown                   Unknown           46   \n",
       "14                   Unknown                   Unknown           48   \n",
       "15                   Unknown                   Unknown           51   \n",
       "16                   Unknown                   Unknown           53   \n",
       "17                   Unknown                   Unknown           55   \n",
       "18                   Unknown                   Unknown           57   \n",
       "\n",
       "           properties                                         bytes_read  \\\n",
       "0   [write, indicate]                                                NaN   \n",
       "1      [read, notify]                                               b'['   \n",
       "2              [read]                                     b'SAF Tehnika'   \n",
       "3              [read]                                         b'Aranet4'   \n",
       "4              [read]                                    b'317960115190'   \n",
       "5              [read]                                              b'12'   \n",
       "6              [read]                                         b'v0.4.14'   \n",
       "7              [read]                                         b'v0.4.14'   \n",
       "8              [read]                      b'\\xf6S\\xe6\\x07J\\xa6\\x04\\x00'   \n",
       "9              [read]         b'\\xf1`\\x81\\x00\\xe8\\x03x\\x05\\x84\\x03x\\x05'   \n",
       "10            [write]                                                NaN   \n",
       "11             [read]                        b'\\x00\\x07\\xd4\\x01P%$[\\x03'   \n",
       "12             [read]                                        b'\\xe0\\x07'   \n",
       "13             [read]                                           b',\\x01'   \n",
       "14     [read, notify]  b'\\x00\\x00\\x00\\x00\\x00\\x00\\x00\\x00\\x00\\x00\\x00...   \n",
       "15             [read]                b'\\xff\\xff\\xff\\xff\\xff\\xff\\xff\\xff'   \n",
       "16             [read]                                           b'6\\x00'   \n",
       "17             [read]              b'\\x00\\x07\\xd4\\x01P%$[\\x03,\\x016\\x00'   \n",
       "18             [read]  b'\\x03,\\x01\\xe0\\x076\\x00\\x94\\x03u\\xca%\\xca%\\xc...   \n",
       "\n",
       "                                           char_value  \n",
       "0                                                 NaN  \n",
       "1                                                  91  \n",
       "2                                         SAF Tehnika  \n",
       "3                                             Aranet4  \n",
       "4                                        317960115190  \n",
       "5                                                  12  \n",
       "6                                             v0.4.14  \n",
       "7                                             v0.4.14  \n",
       "8                                    1308736797168630  \n",
       "9                        1692512749924216445555794161  \n",
       "10                                                NaN  \n",
       "11                               61907647403299964672  \n",
       "12                                               2016  \n",
       "13                                                300  \n",
       "14                                                  0  \n",
       "15                               18446744073709551615  \n",
       "16                                                 54  \n",
       "17                      16713607302205142008002250496  \n",
       "18  6012503719597758785888373246281501774110962781...  "
      ]
     },
     "execution_count": null,
     "metadata": {},
     "output_type": "execute_result"
    }
   ],
   "source": [
    "df = pd.DataFrame(records)\n",
    "\n",
    "is_bytes_string = df.char_descr.str.endswith(\"String\")\n",
    "df.loc[is_bytes_string, \"char_value\"] = df.loc[is_bytes_string, \"bytes_read\"].apply(\n",
    "    lambda x: x.decode(\"utf-8\")\n",
    ")\n",
    "\n",
    "is_hex = (df.bytes_read.notna()) & (~is_bytes_string)\n",
    "df.loc[is_hex, \"char_value\"] = df.loc[is_hex, \"bytes_read\"].apply(\n",
    "    lambda x: int.from_bytes(x, byteorder=\"little\")\n",
    ")\n",
    "\n",
    "df"
   ]
  },
  {
   "cell_type": "code",
   "execution_count": null,
   "metadata": {
    "vscode": {
     "languageId": "python"
    }
   },
   "outputs": [
    {
     "data": {
      "text/plain": [
       "60249519959758621862823179573612090156242299038357688108270379730354312780092800047312931963856928514245532617635745839528822256953380003333989247555053966121534709185612642314901342787938857809552212491885933665445494012904190882909259155245974813575240907846028393753023462318231611071953510546275593623438854454524505959692138213830875492882783029887283148220836430060584387709091791820347553156039402745800754865993571917604828641281951176346257965544119318212855702738353737870246652140968592757110032905956401095715432405383414282081989655994454365782890384717055753757950721731587"
      ]
     },
     "execution_count": null,
     "metadata": {},
     "output_type": "execute_result"
    }
   ],
   "source": [
    "df.loc[18, \"char_value\"]"
   ]
  },
  {
   "cell_type": "code",
   "execution_count": null,
   "metadata": {
    "vscode": {
     "languageId": "python"
    }
   },
   "outputs": [],
   "source": []
  },
  {
   "cell_type": "code",
   "execution_count": null,
   "metadata": {
    "vscode": {
     "languageId": "python"
    }
   },
   "outputs": [
    {
     "data": {
      "text/html": [
       "<div>\n",
       "<style scoped>\n",
       "    .dataframe tbody tr th:only-of-type {\n",
       "        vertical-align: middle;\n",
       "    }\n",
       "\n",
       "    .dataframe tbody tr th {\n",
       "        vertical-align: top;\n",
       "    }\n",
       "\n",
       "    .dataframe thead th {\n",
       "        text-align: right;\n",
       "    }\n",
       "</style>\n",
       "<table border=\"1\" class=\"dataframe\">\n",
       "  <thead>\n",
       "    <tr style=\"text-align: right;\">\n",
       "      <th></th>\n",
       "      <th>service</th>\n",
       "      <th>characteristic</th>\n",
       "      <th>properties</th>\n",
       "      <th>bytes_read</th>\n",
       "      <th>char_value</th>\n",
       "    </tr>\n",
       "  </thead>\n",
       "  <tbody>\n",
       "    <tr>\n",
       "      <th>0</th>\n",
       "      <td>Nordic Semiconductor ASA</td>\n",
       "      <td>Buttonless DFU</td>\n",
       "      <td>[write, indicate]</td>\n",
       "      <td>NaN</td>\n",
       "      <td>NaN</td>\n",
       "    </tr>\n",
       "    <tr>\n",
       "      <th>1</th>\n",
       "      <td>Battery Service</td>\n",
       "      <td>Battery Level</td>\n",
       "      <td>[read, notify]</td>\n",
       "      <td>b'['</td>\n",
       "      <td>NaN</td>\n",
       "    </tr>\n",
       "    <tr>\n",
       "      <th>2</th>\n",
       "      <td>Device Information</td>\n",
       "      <td>Manufacturer Name String</td>\n",
       "      <td>[read]</td>\n",
       "      <td>b'SAF Tehnika'</td>\n",
       "      <td>NaN</td>\n",
       "    </tr>\n",
       "    <tr>\n",
       "      <th>3</th>\n",
       "      <td>Device Information</td>\n",
       "      <td>Model Number String</td>\n",
       "      <td>[read]</td>\n",
       "      <td>b'Aranet4'</td>\n",
       "      <td>NaN</td>\n",
       "    </tr>\n",
       "    <tr>\n",
       "      <th>4</th>\n",
       "      <td>Device Information</td>\n",
       "      <td>Serial Number String</td>\n",
       "      <td>[read]</td>\n",
       "      <td>b'317960115190'</td>\n",
       "      <td>5.439737e+13</td>\n",
       "    </tr>\n",
       "    <tr>\n",
       "      <th>5</th>\n",
       "      <td>Device Information</td>\n",
       "      <td>Hardware Revision String</td>\n",
       "      <td>[read]</td>\n",
       "      <td>b'12'</td>\n",
       "      <td>1.800000e+01</td>\n",
       "    </tr>\n",
       "    <tr>\n",
       "      <th>6</th>\n",
       "      <td>Device Information</td>\n",
       "      <td>Firmware Revision String</td>\n",
       "      <td>[read]</td>\n",
       "      <td>b'v0.4.14'</td>\n",
       "      <td>NaN</td>\n",
       "    </tr>\n",
       "    <tr>\n",
       "      <th>7</th>\n",
       "      <td>Device Information</td>\n",
       "      <td>Software Revision String</td>\n",
       "      <td>[read]</td>\n",
       "      <td>b'v0.4.14'</td>\n",
       "      <td>NaN</td>\n",
       "    </tr>\n",
       "    <tr>\n",
       "      <th>8</th>\n",
       "      <td>Device Information</td>\n",
       "      <td>System ID</td>\n",
       "      <td>[read]</td>\n",
       "      <td>b'\\xf6S\\xe6\\x07J\\xa6\\x04\\x00'</td>\n",
       "      <td>NaN</td>\n",
       "    </tr>\n",
       "    <tr>\n",
       "      <th>9</th>\n",
       "      <td>Unknown</td>\n",
       "      <td>Unknown</td>\n",
       "      <td>[read]</td>\n",
       "      <td>b'\\xf1`\\x81\\x00\\xe8\\x03x\\x05\\x84\\x03x\\x05'</td>\n",
       "      <td>NaN</td>\n",
       "    </tr>\n",
       "    <tr>\n",
       "      <th>10</th>\n",
       "      <td>Unknown</td>\n",
       "      <td>Unknown</td>\n",
       "      <td>[write]</td>\n",
       "      <td>NaN</td>\n",
       "      <td>NaN</td>\n",
       "    </tr>\n",
       "    <tr>\n",
       "      <th>11</th>\n",
       "      <td>Unknown</td>\n",
       "      <td>Unknown</td>\n",
       "      <td>[read]</td>\n",
       "      <td>b'\\xb9\\x07\\xd9\\x01N%$[\\x03'</td>\n",
       "      <td>NaN</td>\n",
       "    </tr>\n",
       "    <tr>\n",
       "      <th>12</th>\n",
       "      <td>Unknown</td>\n",
       "      <td>Unknown</td>\n",
       "      <td>[read]</td>\n",
       "      <td>b'\\xe0\\x07'</td>\n",
       "      <td>NaN</td>\n",
       "    </tr>\n",
       "    <tr>\n",
       "      <th>13</th>\n",
       "      <td>Unknown</td>\n",
       "      <td>Unknown</td>\n",
       "      <td>[read]</td>\n",
       "      <td>b',\\x01'</td>\n",
       "      <td>NaN</td>\n",
       "    </tr>\n",
       "    <tr>\n",
       "      <th>14</th>\n",
       "      <td>Unknown</td>\n",
       "      <td>Unknown</td>\n",
       "      <td>[read, notify]</td>\n",
       "      <td>b'\\x00\\x00\\x00\\x00\\x00\\x00\\x00\\x00\\x00\\x00\\x00...</td>\n",
       "      <td>NaN</td>\n",
       "    </tr>\n",
       "    <tr>\n",
       "      <th>15</th>\n",
       "      <td>Unknown</td>\n",
       "      <td>Unknown</td>\n",
       "      <td>[read]</td>\n",
       "      <td>b'\\xff\\xff\\xff\\xff\\xff\\xff\\xff\\xff'</td>\n",
       "      <td>NaN</td>\n",
       "    </tr>\n",
       "    <tr>\n",
       "      <th>16</th>\n",
       "      <td>Unknown</td>\n",
       "      <td>Unknown</td>\n",
       "      <td>[read]</td>\n",
       "      <td>b'\\r\\x01'</td>\n",
       "      <td>NaN</td>\n",
       "    </tr>\n",
       "    <tr>\n",
       "      <th>17</th>\n",
       "      <td>Unknown</td>\n",
       "      <td>Unknown</td>\n",
       "      <td>[read]</td>\n",
       "      <td>b'\\xb9\\x07\\xd9\\x01N%$[\\x03,\\x01\\r\\x01'</td>\n",
       "      <td>NaN</td>\n",
       "    </tr>\n",
       "    <tr>\n",
       "      <th>18</th>\n",
       "      <td>Unknown</td>\n",
       "      <td>Unknown</td>\n",
       "      <td>[read]</td>\n",
       "      <td>b'\\x03,\\x01\\xe0\\x07\\r\\x01\\xaf\\x02u\\xd9%\\xd9%\\x...</td>\n",
       "      <td>NaN</td>\n",
       "    </tr>\n",
       "  </tbody>\n",
       "</table>\n",
       "</div>"
      ],
      "text/plain": [
       "                     service            characteristic         properties  \\\n",
       "0   Nordic Semiconductor ASA            Buttonless DFU  [write, indicate]   \n",
       "1            Battery Service             Battery Level     [read, notify]   \n",
       "2         Device Information  Manufacturer Name String             [read]   \n",
       "3         Device Information       Model Number String             [read]   \n",
       "4         Device Information      Serial Number String             [read]   \n",
       "5         Device Information  Hardware Revision String             [read]   \n",
       "6         Device Information  Firmware Revision String             [read]   \n",
       "7         Device Information  Software Revision String             [read]   \n",
       "8         Device Information                 System ID             [read]   \n",
       "9                    Unknown                   Unknown             [read]   \n",
       "10                   Unknown                   Unknown            [write]   \n",
       "11                   Unknown                   Unknown             [read]   \n",
       "12                   Unknown                   Unknown             [read]   \n",
       "13                   Unknown                   Unknown             [read]   \n",
       "14                   Unknown                   Unknown     [read, notify]   \n",
       "15                   Unknown                   Unknown             [read]   \n",
       "16                   Unknown                   Unknown             [read]   \n",
       "17                   Unknown                   Unknown             [read]   \n",
       "18                   Unknown                   Unknown             [read]   \n",
       "\n",
       "                                           bytes_read    char_value  \n",
       "0                                                 NaN           NaN  \n",
       "1                                                b'['           NaN  \n",
       "2                                      b'SAF Tehnika'           NaN  \n",
       "3                                          b'Aranet4'           NaN  \n",
       "4                                     b'317960115190'  5.439737e+13  \n",
       "5                                               b'12'  1.800000e+01  \n",
       "6                                          b'v0.4.14'           NaN  \n",
       "7                                          b'v0.4.14'           NaN  \n",
       "8                       b'\\xf6S\\xe6\\x07J\\xa6\\x04\\x00'           NaN  \n",
       "9          b'\\xf1`\\x81\\x00\\xe8\\x03x\\x05\\x84\\x03x\\x05'           NaN  \n",
       "10                                                NaN           NaN  \n",
       "11                        b'\\xb9\\x07\\xd9\\x01N%$[\\x03'           NaN  \n",
       "12                                        b'\\xe0\\x07'           NaN  \n",
       "13                                           b',\\x01'           NaN  \n",
       "14  b'\\x00\\x00\\x00\\x00\\x00\\x00\\x00\\x00\\x00\\x00\\x00...           NaN  \n",
       "15                b'\\xff\\xff\\xff\\xff\\xff\\xff\\xff\\xff'           NaN  \n",
       "16                                          b'\\r\\x01'           NaN  \n",
       "17             b'\\xb9\\x07\\xd9\\x01N%$[\\x03,\\x01\\r\\x01'           NaN  \n",
       "18  b'\\x03,\\x01\\xe0\\x07\\r\\x01\\xaf\\x02u\\xd9%\\xd9%\\x...           NaN  "
      ]
     },
     "execution_count": null,
     "metadata": {},
     "output_type": "execute_result"
    }
   ],
   "source": [
    "# convert pandas column to dummy cols\n",
    "\n",
    "# pd.get_dummies(df['properties'].explode()).add_prefix('properties_').astype(bool)\n",
    "df.assign(char_value=df.bytes_read.apply(decode_bytes))"
   ]
  },
  {
   "cell_type": "code",
   "execution_count": null,
   "metadata": {
    "vscode": {
     "languageId": "python"
    }
   },
   "outputs": [
    {
     "data": {
      "text/plain": [
       "True"
      ]
     },
     "execution_count": null,
     "metadata": {},
     "output_type": "execute_result"
    }
   ],
   "source": [
    "import numpy as np\n",
    "\n",
    "df.loc[0, \"bytes_read\"] is np.nan"
   ]
  },
  {
   "cell_type": "code",
   "execution_count": null,
   "metadata": {
    "vscode": {
     "languageId": "python"
    }
   },
   "outputs": [
    {
     "data": {
      "text/plain": [
       "array([nan, '[', 'SAF Tehnika', 'Aranet4', 54397372551568, 18, 'v0.4.14',\n",
       "       'v0.4.14', None, None, nan, None, None, ',\\x01',\n",
       "       '\\x00\\x00\\x00\\x00\\x00\\x00\\x00\\x00\\x00\\x00\\x00\\x00\\x00\\x00\\x00\\x00\\x00\\x00\\x00\\x00\\x00\\x00\\x00\\x00\\x00\\x00\\x00\\x00\\x00\\x00\\x00\\x00\\x00\\x00\\x00\\x00\\x00\\x00\\x00\\x00\\x00\\x00\\x00\\x00\\x00\\x00\\x00\\x00\\x00\\x00\\x00\\x00\\x00\\x00\\x00\\x00\\x00\\x00\\x00\\x00\\x00\\x00\\x00\\x00\\x00\\x00\\x00\\x00\\x00\\x00\\x00\\x00\\x00\\x00\\x00\\x00\\x00\\x00\\x00\\x00\\x00\\x00\\x00\\x00\\x00\\x00\\x00\\x00\\x00\\x00\\x00\\x00\\x00\\x00\\x00\\x00\\x00\\x00\\x00\\x00\\x00\\x00\\x00\\x00\\x00\\x00\\x00\\x00\\x00\\x00\\x00\\x00\\x00\\x00\\x00\\x00\\x00\\x00\\x00\\x00\\x00\\x00\\x00\\x00\\x00\\x00\\x00\\x00\\x00\\x00\\x00\\x00\\x00\\x00\\x00\\x00\\x00\\x00\\x00\\x00\\x00\\x00\\x00\\x00\\x00\\x00\\x00\\x00\\x00\\x00\\x00\\x00\\x00\\x00\\x00\\x00\\x00\\x00\\x00\\x00\\x00\\x00\\x00\\x00\\x00\\x00\\x00\\x00\\x00\\x00\\x00\\x00\\x00\\x00\\x00\\x00\\x00\\x00\\x00\\x00\\x00\\x00\\x00\\x00\\x00\\x00\\x00\\x00\\x00\\x00\\x00\\x00\\x00\\x00\\x00\\x00\\x00\\x00\\x00\\x00\\x00\\x00\\x00\\x00\\x00\\x00\\x00\\x00\\x00\\x00\\x00\\x00\\x00\\x00\\x00\\x00\\x00\\x00\\x00\\x00\\x00\\x00\\x00\\x00\\x00\\x00\\x00\\x00\\x00\\x00\\x00\\x00\\x00\\x00\\x00\\x00\\x00\\x00\\x00\\x00\\x00\\x00\\x00\\x00',\n",
       "       None, '\\r\\x01', None, None], dtype=object)"
      ]
     },
     "execution_count": null,
     "metadata": {},
     "output_type": "execute_result"
    }
   ],
   "source": [
    "df.bytes_read.apply(decode_bytes).values"
   ]
  },
  {
   "cell_type": "code",
   "execution_count": null,
   "metadata": {
    "vscode": {
     "languageId": "python"
    }
   },
   "outputs": [
    {
     "data": {
      "text/plain": [
       "1692512749924216445555794161"
      ]
     },
     "execution_count": null,
     "metadata": {},
     "output_type": "execute_result"
    }
   ],
   "source": [
    "df.loc[9, \"bytes_read\"]\n",
    "\n",
    "# convert hex to int"
   ]
  },
  {
   "cell_type": "code",
   "execution_count": null,
   "metadata": {
    "vscode": {
     "languageId": "python"
    }
   },
   "outputs": [],
   "source": []
  }
 ],
 "metadata": {
  "kernelspec": {
   "display_name": "Python 3.10.8 ('hass_py-OkK7krZh')",
   "language": "python",
   "name": "python3"
  }
 },
 "nbformat": 4,
 "nbformat_minor": 2
}
